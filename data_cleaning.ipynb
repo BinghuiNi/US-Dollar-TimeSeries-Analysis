{
 "cells": [
  {
   "cell_type": "code",
   "execution_count": null,
   "metadata": {
    "vscode": {
     "languageId": "r"
    }
   },
   "outputs": [],
   "source": [
    "library(scales)\n",
    "\n",
    "# Load the data\n",
    "exports <- read.csv(\"./raw_data/bea_international_account.csv\", header = FALSE, skip = 8, nrows = 1)\n",
    "imports <- read.csv(\"./raw_data/bea_international_account.csv\", header = FALSE, skip = 10, nrows = 1)\n",
    "net_out <- read.csv(\"./raw_data/bea_international_account.csv\", header = FALSE, skip = 12, nrows = 1)\n",
    "net_in <- read.csv(\"./raw_data/bea_international_account.csv\", header = FALSE, skip = 13, nrows = 1)\n",
    "bea <- data.frame(exports = t(exports), imports = t(imports), net_in = t(net_in), net_out = t(net_out))\n",
    "bea <- bea[3:nrow(bea), ]\n",
    "bea$time <- as.Date(seq(from = as.Date(\"2005-01-01\"), to = as.Date(\"2024-09-01\"), by = \"quarter\"))\n",
    "bea$exports <- as.numeric(bea$exports)\n",
    "bea$imports <- as.numeric(bea$imports)\n",
    "bea$net_out <- as.numeric(bea$net_out)\n",
    "bea$net_in <- as.numeric(bea$net_in)\n",
    "bea$balance <- bea$export - bea$import\n",
    "# write.csv(bea,\"./data/cleaned_bea.csv\", row.names = FALSE)"
   ]
  },
  {
   "cell_type": "code",
   "execution_count": null,
   "metadata": {
    "vscode": {
     "languageId": "r"
    }
   },
   "outputs": [],
   "source": [
    "# Load the data\n",
    "consumption <- read.csv(\"./raw_data/US_GDP.csv\", header = FALSE, skip = 6, nrows = 1)\n",
    "investment <- read.csv(\"./raw_data/US_GDP.csv\", header = FALSE, skip = 11, nrows = 1)\n",
    "net_export <- read.csv(\"./raw_data/US_GDP.csv\", header = FALSE, skip = 19, nrows = 1)\n",
    "government <- read.csv(\"./raw_data/US_GDP.csv\", header = FALSE, skip = 26, nrows = 1)\n",
    "gdp <- data.frame(consumption = t(consumption), investment = t(investment), net_export = t(net_export), government = t(government))\n",
    "gdp <- gdp[3:nrow(gdp), ]\n",
    "gdp$time <- as.Date(seq(from = as.Date(\"2005-01-01\"), to = as.Date(\"2024-09-01\"), by = \"quarter\"))\n",
    "gdp$consumption <- as.numeric(gdp$consumption)\n",
    "gdp$investment <- as.numeric(gdp$investment)\n",
    "gdp$net_export <- as.numeric(gdp$net_export)\n",
    "gdp$government <- as.numeric(gdp$government)\n",
    "# write.csv(gdp,\"./data/gdp.csv\", row.names = FALSE)\n"
   ]
  },
  {
   "cell_type": "code",
   "execution_count": 13,
   "metadata": {
    "vscode": {
     "languageId": "r"
    }
   },
   "outputs": [],
   "source": [
    "# 加载必要的库\n",
    "library(tidyverse)\n",
    "library(readxl)\n",
    "\n",
    "# 读取Excel文件\n",
    "data <- read_excel(\"./data/cpi.xlsx\")\n",
    "\n",
    "# 转换为long-form\n",
    "data_long <- data %>%\n",
    "  pivot_longer(cols = Jan:Dec,    # 选择月份列\n",
    "               names_to = \"time\", # 新的时间列\n",
    "               values_to = \"cpi\") # 新的cpi列\n",
    "\n",
    "write.csv(data_long,\"./data/cpi.csv\", row.names = FALSE)"
   ]
  },
  {
   "cell_type": "code",
   "execution_count": 14,
   "metadata": {
    "vscode": {
     "languageId": "r"
    }
   },
   "outputs": [],
   "source": [
    "# 读取Excel文件\n",
    "data <- read_excel(\"./data/Unemployment_rate.xlsx\")\n",
    "\n",
    "# 转换为long-form\n",
    "data_long <- data %>%\n",
    "  pivot_longer(cols = Jan:Dec,    # 选择月份列\n",
    "               names_to = \"time\", # 新的时间列\n",
    "               values_to = \"unem\") # 新的cpi列\n",
    "\n",
    "write.csv(data_long,\"./data/unem.csv\", row.names = FALSE)"
   ]
  },
  {
   "cell_type": "code",
   "execution_count": null,
   "metadata": {
    "vscode": {
     "languageId": "r"
    }
   },
   "outputs": [],
   "source": [
    "xau <- read.csv(\"./raw_data/XAU.csv\", header=TRUE)\n",
    "xau$Date <- as.Date(xau$Date, format = \"%m/%d/%Y\")\n",
    "xau$Price <- as.numeric(gsub(\",\", \"\", xau$Price))\n",
    "xau$Price <- as.numeric(xau$Price)\n",
    "xau <- xau[order(xau$Date), ]\n",
    "# write.csv(xau,\"./data/xau.csv\", row.names = FALSE)"
   ]
  },
  {
   "cell_type": "code",
   "execution_count": null,
   "metadata": {
    "vscode": {
     "languageId": "r"
    }
   },
   "outputs": [],
   "source": [
    "library(readxl)\n",
    "gsci <- read_excel(\"./raw_data/S&P_GSCI.xls\", skip = 7, col_names = FALSE)\n",
    "gsci <- gsci[1:2536, ]\n",
    "colnames(gsci) <- c(\"Date\", \"Price\")\n",
    "gsci <- gsci[order(gsci$Date), ]\n",
    "# write.csv(gsci,\"./data/gsci.csv\", row.names = FALSE)\n"
   ]
  },
  {
   "cell_type": "markdown",
   "metadata": {},
   "source": []
  }
 ],
 "metadata": {
  "kernelspec": {
   "display_name": "R",
   "language": "R",
   "name": "ir"
  },
  "language_info": {
   "codemirror_mode": "r",
   "file_extension": ".r",
   "mimetype": "text/x-r-source",
   "name": "R",
   "pygments_lexer": "r",
   "version": "4.4.1"
  }
 },
 "nbformat": 4,
 "nbformat_minor": 2
}
